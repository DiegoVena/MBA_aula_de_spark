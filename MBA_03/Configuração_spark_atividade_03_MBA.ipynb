{
  "nbformat": 4,
  "nbformat_minor": 0,
  "metadata": {
    "colab": {
      "provenance": []
    },
    "kernelspec": {
      "name": "python3",
      "display_name": "Python 3"
    },
    "language_info": {
      "name": "python"
    }
  },
  "cells": [
    {
      "cell_type": "code",
      "execution_count": 1,
      "metadata": {
        "id": "btrF55-DHQo5"
      },
      "outputs": [],
      "source": [
        "#configurando o ambiente \n",
        "!apt-get update -qq\n",
        "!apt-get install openjdk-8-jdk-headless -qq > /dev/null\n",
        "!wget -q https://archive.apache.org/dist/spark/spark-3.1.2/spark-3.1.2-bin-hadoop2.7.tgz\n",
        "!tar xf spark-3.1.2-bin-hadoop2.7.tgz\n",
        "!pip install -q findspark\n"
      ]
    },
    {
      "cell_type": "code",
      "source": [
        "#criando as pastas do Java e Spark\n",
        "import os\n",
        "os.environ['JAVA_HOME']=\"/usr/lib/jvm/java-8-openjdk-amd64\"\n",
        "os.environ['SPARK_HOME']='/content/spark-3.1.2-bin-hadoop2.7'"
      ],
      "metadata": {
        "id": "sO7QsZZ-HxxL"
      },
      "execution_count": 2,
      "outputs": []
    },
    {
      "cell_type": "code",
      "source": [
        "!pip install -q findspark"
      ],
      "metadata": {
        "id": "8JPp3QaMZ08I"
      },
      "execution_count": null,
      "outputs": []
    },
    {
      "cell_type": "code",
      "source": [
        "#Esse pacote referência o spark\n",
        "import findspark"
      ],
      "metadata": {
        "id": "GrRWFiK_Z7kF"
      },
      "execution_count": 3,
      "outputs": []
    },
    {
      "cell_type": "code",
      "source": [
        "findspark.init()"
      ],
      "metadata": {
        "id": "vw_nMi4zZ_Sg"
      },
      "execution_count": 4,
      "outputs": []
    },
    {
      "cell_type": "code",
      "source": [
        "#importa o spark sessão\n",
        "from pyspark.sql import SparkSession"
      ],
      "metadata": {
        "id": "kpiLx1TfeI1D"
      },
      "execution_count": 5,
      "outputs": []
    },
    {
      "cell_type": "code",
      "source": [
        "#Configuração da sessão\n",
        "spark= SparkSession.builder \\\n",
        "    .master('local[*]') \\\n",
        "    .appName('Aula_spark') \\\n",
        "    .config('spark.iu.port','4050') \\\n",
        "    .getOrCreate()"
      ],
      "metadata": {
        "id": "bYv5zXHWefYM"
      },
      "execution_count": 6,
      "outputs": []
    },
    {
      "cell_type": "code",
      "source": [
        "#!wget -q https://bin.equinox.io/c/4VmDzA7iaHb/ngrok-stable-linux-amd64.zip\n",
        "#!unzip ngrok-stable-linux-amd64.zip"
      ],
      "metadata": {
        "colab": {
          "base_uri": "https://localhost:8080/"
        },
        "id": "RiIf7ILK8TZd",
        "outputId": "38418104-266e-4b65-d399-8813f2ff02cb"
      },
      "execution_count": null,
      "outputs": [
        {
          "output_type": "stream",
          "name": "stdout",
          "text": [
            "Archive:  ngrok-stable-linux-amd64.zip\n",
            "  inflating: ngrok                   \n"
          ]
        }
      ]
    },
    {
      "cell_type": "code",
      "source": [
        "\n",
        "#get_ipython().system_raw('ngrok config add-authtoken 2PieZgGtQEXUx4JnerL86qjMTaI_23TviCWZVtdBFfJ4NGGj')\n",
        "#get_ipython().system_raw('./ngrok http 4050 &')*/"
      ],
      "metadata": {
        "id": "ndkTkZ0HieYl"
      },
      "execution_count": null,
      "outputs": []
    },
    {
      "cell_type": "code",
      "source": [
        "#!curl -s http://localhost:4050/api/tunnels"
      ],
      "metadata": {
        "id": "UdJyClWD86wG"
      },
      "execution_count": null,
      "outputs": []
    },
    {
      "cell_type": "code",
      "source": [
        "#criando uma lista de tupla\n",
        "data=[('Diego',26),('Josi',23)]"
      ],
      "metadata": {
        "id": "MIeL9qn8ApvG"
      },
      "execution_count": 7,
      "outputs": []
    },
    {
      "cell_type": "code",
      "source": [
        "#criando uma lista de colunas\n",
        "Col=['Nome','Idade']"
      ],
      "metadata": {
        "id": "72cID451A3DX"
      },
      "execution_count": 8,
      "outputs": []
    },
    {
      "cell_type": "code",
      "source": [
        "#Criando um data frame no spark\n",
        "df=spark.createDataFrame(data,Col)"
      ],
      "metadata": {
        "id": "4MqFQuBkA8NE"
      },
      "execution_count": 9,
      "outputs": []
    },
    {
      "cell_type": "code",
      "source": [
        "#Mostrando o data frame \n",
        "df.show()"
      ],
      "metadata": {
        "colab": {
          "base_uri": "https://localhost:8080/"
        },
        "id": "IVQfV02OEHDt",
        "outputId": "45df832f-9ff9-4eed-8b76-7d2842031d4f"
      },
      "execution_count": 10,
      "outputs": [
        {
          "output_type": "stream",
          "name": "stdout",
          "text": [
            "+-----+-----+\n",
            "| Nome|Idade|\n",
            "+-----+-----+\n",
            "|Diego|   26|\n",
            "| Josi|   23|\n",
            "+-----+-----+\n",
            "\n"
          ]
        }
      ]
    },
    {
      "cell_type": "code",
      "source": [
        "#Monstrando o data frame e modelo de Data frame pandas(py)\n",
        "df.toPandas()"
      ],
      "metadata": {
        "colab": {
          "base_uri": "https://localhost:8080/",
          "height": 112
        },
        "id": "N2gyVqPOEsWl",
        "outputId": "6e173c72-7af4-44d6-d7d4-99c253e2a470"
      },
      "execution_count": 11,
      "outputs": [
        {
          "output_type": "execute_result",
          "data": {
            "text/plain": [
              "    Nome  Idade\n",
              "0  Diego     26\n",
              "1   Josi     23"
            ],
            "text/html": [
              "\n",
              "  <div id=\"df-b4b82e47-a262-4911-ad9e-034ce8953e1f\">\n",
              "    <div class=\"colab-df-container\">\n",
              "      <div>\n",
              "<style scoped>\n",
              "    .dataframe tbody tr th:only-of-type {\n",
              "        vertical-align: middle;\n",
              "    }\n",
              "\n",
              "    .dataframe tbody tr th {\n",
              "        vertical-align: top;\n",
              "    }\n",
              "\n",
              "    .dataframe thead th {\n",
              "        text-align: right;\n",
              "    }\n",
              "</style>\n",
              "<table border=\"1\" class=\"dataframe\">\n",
              "  <thead>\n",
              "    <tr style=\"text-align: right;\">\n",
              "      <th></th>\n",
              "      <th>Nome</th>\n",
              "      <th>Idade</th>\n",
              "    </tr>\n",
              "  </thead>\n",
              "  <tbody>\n",
              "    <tr>\n",
              "      <th>0</th>\n",
              "      <td>Diego</td>\n",
              "      <td>26</td>\n",
              "    </tr>\n",
              "    <tr>\n",
              "      <th>1</th>\n",
              "      <td>Josi</td>\n",
              "      <td>23</td>\n",
              "    </tr>\n",
              "  </tbody>\n",
              "</table>\n",
              "</div>\n",
              "      <button class=\"colab-df-convert\" onclick=\"convertToInteractive('df-b4b82e47-a262-4911-ad9e-034ce8953e1f')\"\n",
              "              title=\"Convert this dataframe to an interactive table.\"\n",
              "              style=\"display:none;\">\n",
              "        \n",
              "  <svg xmlns=\"http://www.w3.org/2000/svg\" height=\"24px\"viewBox=\"0 0 24 24\"\n",
              "       width=\"24px\">\n",
              "    <path d=\"M0 0h24v24H0V0z\" fill=\"none\"/>\n",
              "    <path d=\"M18.56 5.44l.94 2.06.94-2.06 2.06-.94-2.06-.94-.94-2.06-.94 2.06-2.06.94zm-11 1L8.5 8.5l.94-2.06 2.06-.94-2.06-.94L8.5 2.5l-.94 2.06-2.06.94zm10 10l.94 2.06.94-2.06 2.06-.94-2.06-.94-.94-2.06-.94 2.06-2.06.94z\"/><path d=\"M17.41 7.96l-1.37-1.37c-.4-.4-.92-.59-1.43-.59-.52 0-1.04.2-1.43.59L10.3 9.45l-7.72 7.72c-.78.78-.78 2.05 0 2.83L4 21.41c.39.39.9.59 1.41.59.51 0 1.02-.2 1.41-.59l7.78-7.78 2.81-2.81c.8-.78.8-2.07 0-2.86zM5.41 20L4 18.59l7.72-7.72 1.47 1.35L5.41 20z\"/>\n",
              "  </svg>\n",
              "      </button>\n",
              "      \n",
              "  <style>\n",
              "    .colab-df-container {\n",
              "      display:flex;\n",
              "      flex-wrap:wrap;\n",
              "      gap: 12px;\n",
              "    }\n",
              "\n",
              "    .colab-df-convert {\n",
              "      background-color: #E8F0FE;\n",
              "      border: none;\n",
              "      border-radius: 50%;\n",
              "      cursor: pointer;\n",
              "      display: none;\n",
              "      fill: #1967D2;\n",
              "      height: 32px;\n",
              "      padding: 0 0 0 0;\n",
              "      width: 32px;\n",
              "    }\n",
              "\n",
              "    .colab-df-convert:hover {\n",
              "      background-color: #E2EBFA;\n",
              "      box-shadow: 0px 1px 2px rgba(60, 64, 67, 0.3), 0px 1px 3px 1px rgba(60, 64, 67, 0.15);\n",
              "      fill: #174EA6;\n",
              "    }\n",
              "\n",
              "    [theme=dark] .colab-df-convert {\n",
              "      background-color: #3B4455;\n",
              "      fill: #D2E3FC;\n",
              "    }\n",
              "\n",
              "    [theme=dark] .colab-df-convert:hover {\n",
              "      background-color: #434B5C;\n",
              "      box-shadow: 0px 1px 3px 1px rgba(0, 0, 0, 0.15);\n",
              "      filter: drop-shadow(0px 1px 2px rgba(0, 0, 0, 0.3));\n",
              "      fill: #FFFFFF;\n",
              "    }\n",
              "  </style>\n",
              "\n",
              "      <script>\n",
              "        const buttonEl =\n",
              "          document.querySelector('#df-b4b82e47-a262-4911-ad9e-034ce8953e1f button.colab-df-convert');\n",
              "        buttonEl.style.display =\n",
              "          google.colab.kernel.accessAllowed ? 'block' : 'none';\n",
              "\n",
              "        async function convertToInteractive(key) {\n",
              "          const element = document.querySelector('#df-b4b82e47-a262-4911-ad9e-034ce8953e1f');\n",
              "          const dataTable =\n",
              "            await google.colab.kernel.invokeFunction('convertToInteractive',\n",
              "                                                     [key], {});\n",
              "          if (!dataTable) return;\n",
              "\n",
              "          const docLinkHtml = 'Like what you see? Visit the ' +\n",
              "            '<a target=\"_blank\" href=https://colab.research.google.com/notebooks/data_table.ipynb>data table notebook</a>'\n",
              "            + ' to learn more about interactive tables.';\n",
              "          element.innerHTML = '';\n",
              "          dataTable['output_type'] = 'display_data';\n",
              "          await google.colab.output.renderOutput(dataTable, element);\n",
              "          const docLink = document.createElement('div');\n",
              "          docLink.innerHTML = docLinkHtml;\n",
              "          element.appendChild(docLink);\n",
              "        }\n",
              "      </script>\n",
              "    </div>\n",
              "  </div>\n",
              "  "
            ]
          },
          "metadata": {},
          "execution_count": 11
        }
      ]
    },
    {
      "cell_type": "code",
      "source": [
        "#criando uma conexão com o Drive caso queira se não desconsidere esse passo \n",
        "from google.colab import drive\n",
        "drive.mount('/content/drive')"
      ],
      "metadata": {
        "colab": {
          "base_uri": "https://localhost:8080/"
        },
        "id": "TLeuLywbG6Wv",
        "outputId": "a1748c21-4616-42fc-e6ad-b33a698bb19f"
      },
      "execution_count": 12,
      "outputs": [
        {
          "output_type": "stream",
          "name": "stdout",
          "text": [
            "Mounted at /content/drive\n"
          ]
        }
      ]
    },
    {
      "cell_type": "code",
      "source": [
        "#biblioteca de descompactação\n",
        "import zipfile"
      ],
      "metadata": {
        "id": "887C3sLazGRl"
      },
      "execution_count": 13,
      "outputs": []
    },
    {
      "cell_type": "code",
      "source": [
        "#extraindo o arquivo do zip para a mesma pasta \n",
        "zipfile.ZipFile('/content/drive/MyDrive/MBA_03/empresas.zip','r').extractall('/content/drive/MyDrive/MBA_03')"
      ],
      "metadata": {
        "id": "d_iaTi9O2Sxf"
      },
      "execution_count": 16,
      "outputs": []
    },
    {
      "cell_type": "code",
      "source": [
        "#criando um caminho\n",
        "path='/content/drive/MyDrive/MBA_03/empresas'"
      ],
      "metadata": {
        "id": "bymFJSo84SQb"
      },
      "execution_count": 18,
      "outputs": []
    },
    {
      "cell_type": "code",
      "source": [
        "#lendo csv \n",
        "empresas=spark.read.csv(path,sep=';',inferSchema=True)"
      ],
      "metadata": {
        "id": "vAQbXg_D4b6S"
      },
      "execution_count": 20,
      "outputs": []
    },
    {
      "cell_type": "code",
      "source": [
        "#mostrar as 20 primeiras linhas, dentro do parentes de show podemos escolher quantas linhas vamos\n",
        "#mostrar igual a função head do python\n",
        "empresas.show()"
      ],
      "metadata": {
        "colab": {
          "base_uri": "https://localhost:8080/"
        },
        "id": "XChxYDwd5PnH",
        "outputId": "0a1943b5-2271-4240-9f51-c60cabe847f8"
      },
      "execution_count": 42,
      "outputs": [
        {
          "output_type": "stream",
          "name": "stdout",
          "text": [
            "+-----------+--------------------+-----------------+------------------------+--------------+-------------+---------------------------+\n",
            "|cnpj_basico|        razao_social|Natureza_juridica|qualificacao_responsavel|capital_social|porte_empresa|ente_federativo_responsável|\n",
            "+-----------+--------------------+-----------------+------------------------+--------------+-------------+---------------------------+\n",
            "|        306|FRANCAMAR REFRIGE...|             2240|                      49|          0,00|            1|                       null|\n",
            "|       1355|BRASILEIRO & OLIV...|             2062|                      49|          0,00|            5|                       null|\n",
            "|       4820|REGISTRO DE IMOVE...|             3034|                      32|          0,00|            5|                       null|\n",
            "|       5347|ROSELY APARECIDA ...|             2135|                      50|          0,00|            5|                       null|\n",
            "|       6846|BADU E FILHOS TEC...|             2062|                      49|       4000,00|            1|                       null|\n",
            "|       8416|  ELETRICA RUBI LTDA|             2062|                      49|          0,00|            5|                       null|\n",
            "|       8992|SHIROMA VEICULOS ...|             2062|                      49|          0,00|            5|                       null|\n",
            "|       9091|CONTATOS BAR E LA...|             2062|                      49|          0,00|            5|                       null|\n",
            "|       9614|ANTONIA APARECIDA...|             2135|                      50|          0,00|            5|                       null|\n",
            "|       9896|DORACY CORAT DA C...|             2135|                      50|          0,00|            5|                       null|\n",
            "|      12112|LANCHONETE RIO VE...|             2062|                      49|          0,00|            5|                       null|\n",
            "|      12605|VALMAR JACAREI CO...|             2062|                      49|          0,00|            5|                       null|\n",
            "|      13407|ROSANA CRISTINA D...|             2135|                      50|          0,00|            5|                       null|\n",
            "|      13408|CELIO RODRIGUES D...|             2135|                      50|          0,00|            5|                       null|\n",
            "|      13721|MAQFRAN COMERCIO ...|             2062|                      49|          0,00|            1|                       null|\n",
            "|      21181|MOURA & SILVA MER...|             2062|                      49|          0,00|            5|                       null|\n",
            "|      21858|PAMARATI COMERCIO...|             2135|                      50|          0,00|            1|                       null|\n",
            "|      22277|INACIO RODRIGUES ...|             2135|                      50|          0,00|            5|                       null|\n",
            "|      24205|SUELY LEME MARI A...|             2135|                      50|       1000,00|            1|                       null|\n",
            "|      26805|SUELI BATISTA DA ...|             2135|                      50|          0,00|            5|                       null|\n",
            "+-----------+--------------------+-----------------+------------------------+--------------+-------------+---------------------------+\n",
            "only showing top 20 rows\n",
            "\n"
          ]
        }
      ]
    },
    {
      "cell_type": "code",
      "source": [
        "#mostrando a quantidade de linhas no Data frame\n",
        "empresas.count()"
      ],
      "metadata": {
        "colab": {
          "base_uri": "https://localhost:8080/"
        },
        "id": "3xGIh6kv5bwu",
        "outputId": "acaca3f4-6656-4e1f-ccd7-0c4d868120e1"
      },
      "execution_count": 25,
      "outputs": [
        {
          "output_type": "execute_result",
          "data": {
            "text/plain": [
              "4585679"
            ]
          },
          "metadata": {},
          "execution_count": 25
        }
      ]
    },
    {
      "cell_type": "code",
      "source": [
        "#criando uma lista com nome da colunas\n",
        "Names=['cnpj_basico','razao_social','Natureza_juridica','qualificacao_responsavel','capital_social','porte_empresa','ente_federativo_responsável']"
      ],
      "metadata": {
        "id": "FOMc0UEa6kON"
      },
      "execution_count": 31,
      "outputs": []
    },
    {
      "cell_type": "code",
      "source": [
        "#renomeando as colunas\n",
        "for index, ColNames in enumerate(Names):\n",
        "  empresas=empresas.withColumnRenamed(f\"_c{index}\",ColNames)\n"
      ],
      "metadata": {
        "id": "nfbCYvBd75Ba"
      },
      "execution_count": 40,
      "outputs": []
    },
    {
      "cell_type": "code",
      "source": [
        "#Colunas após a transformação\n",
        "empresas.columns"
      ],
      "metadata": {
        "colab": {
          "base_uri": "https://localhost:8080/"
        },
        "id": "fpDLgw0K9gtP",
        "outputId": "875e8311-661f-412c-f025-1b5dcbda0285"
      },
      "execution_count": 41,
      "outputs": [
        {
          "output_type": "execute_result",
          "data": {
            "text/plain": [
              "['cnpj_basico',\n",
              " 'razao_social',\n",
              " 'Natureza_juridica',\n",
              " 'qualificacao_responsavel',\n",
              " 'capital_social',\n",
              " 'porte_empresa',\n",
              " 'ente_federativo_responsável']"
            ]
          },
          "metadata": {},
          "execution_count": 41
        }
      ]
    },
    {
      "cell_type": "code",
      "source": [
        "#Vendo o tipo de dados dentro do data frame\n",
        "empresas.printSchema()"
      ],
      "metadata": {
        "colab": {
          "base_uri": "https://localhost:8080/"
        },
        "id": "7G_dOwRL_3s-",
        "outputId": "b1533355-4746-4071-dc0b-2da947337434"
      },
      "execution_count": 45,
      "outputs": [
        {
          "output_type": "stream",
          "name": "stdout",
          "text": [
            "root\n",
            " |-- cnpj_basico: integer (nullable = true)\n",
            " |-- razao_social: string (nullable = true)\n",
            " |-- Natureza_juridica: integer (nullable = true)\n",
            " |-- qualificacao_responsavel: integer (nullable = true)\n",
            " |-- capital_social: string (nullable = true)\n",
            " |-- porte_empresa: integer (nullable = true)\n",
            " |-- ente_federativo_responsável: string (nullable = true)\n",
            "\n"
          ]
        }
      ]
    },
    {
      "cell_type": "code",
      "source": [
        "#importando double,string e Datatype\n",
        "from pyspark.sql.types import DoubleType, StringType,DateType"
      ],
      "metadata": {
        "id": "-UxKPn_cAeL6"
      },
      "execution_count": 51,
      "outputs": []
    },
    {
      "cell_type": "code",
      "source": [
        "# importando funções matemáticas\n",
        "from pyspark.sql import functions as f"
      ],
      "metadata": {
        "id": "PoURUxPOAt8J"
      },
      "execution_count": 52,
      "outputs": []
    },
    {
      "cell_type": "code",
      "source": [
        "#Mudando ',' para '.'\n",
        "empresas=empresas.withColumn('capital_social',f.regexp_replace('capital_social',',','.'))"
      ],
      "metadata": {
        "id": "YRuqNfBeBQNh"
      },
      "execution_count": 57,
      "outputs": []
    },
    {
      "cell_type": "code",
      "source": [],
      "metadata": {
        "id": "iAdgdTn7DPbx"
      },
      "execution_count": null,
      "outputs": []
    },
    {
      "cell_type": "code",
      "source": [
        "empresas.show( )\n",
        "\n"
      ],
      "metadata": {
        "colab": {
          "base_uri": "https://localhost:8080/"
        },
        "id": "zxq_xyYrClso",
        "outputId": "be821f3c-aad9-4874-9ee8-bb8392803836"
      },
      "execution_count": 60,
      "outputs": [
        {
          "output_type": "stream",
          "name": "stdout",
          "text": [
            "+-----------+--------------------+-----------------+------------------------+--------------+-------------+---------------------------+\n",
            "|cnpj_basico|        razao_social|Natureza_juridica|qualificacao_responsavel|capital_social|porte_empresa|ente_federativo_responsável|\n",
            "+-----------+--------------------+-----------------+------------------------+--------------+-------------+---------------------------+\n",
            "|        306|FRANCAMAR REFRIGE...|             2240|                      49|          0.00|            1|                       null|\n",
            "|       1355|BRASILEIRO & OLIV...|             2062|                      49|          0.00|            5|                       null|\n",
            "|       4820|REGISTRO DE IMOVE...|             3034|                      32|          0.00|            5|                       null|\n",
            "|       5347|ROSELY APARECIDA ...|             2135|                      50|          0.00|            5|                       null|\n",
            "|       6846|BADU E FILHOS TEC...|             2062|                      49|       4000.00|            1|                       null|\n",
            "|       8416|  ELETRICA RUBI LTDA|             2062|                      49|          0.00|            5|                       null|\n",
            "|       8992|SHIROMA VEICULOS ...|             2062|                      49|          0.00|            5|                       null|\n",
            "|       9091|CONTATOS BAR E LA...|             2062|                      49|          0.00|            5|                       null|\n",
            "|       9614|ANTONIA APARECIDA...|             2135|                      50|          0.00|            5|                       null|\n",
            "|       9896|DORACY CORAT DA C...|             2135|                      50|          0.00|            5|                       null|\n",
            "|      12112|LANCHONETE RIO VE...|             2062|                      49|          0.00|            5|                       null|\n",
            "|      12605|VALMAR JACAREI CO...|             2062|                      49|          0.00|            5|                       null|\n",
            "|      13407|ROSANA CRISTINA D...|             2135|                      50|          0.00|            5|                       null|\n",
            "|      13408|CELIO RODRIGUES D...|             2135|                      50|          0.00|            5|                       null|\n",
            "|      13721|MAQFRAN COMERCIO ...|             2062|                      49|          0.00|            1|                       null|\n",
            "|      21181|MOURA & SILVA MER...|             2062|                      49|          0.00|            5|                       null|\n",
            "|      21858|PAMARATI COMERCIO...|             2135|                      50|          0.00|            1|                       null|\n",
            "|      22277|INACIO RODRIGUES ...|             2135|                      50|          0.00|            5|                       null|\n",
            "|      24205|SUELY LEME MARI A...|             2135|                      50|       1000.00|            1|                       null|\n",
            "|      26805|SUELI BATISTA DA ...|             2135|                      50|          0.00|            5|                       null|\n",
            "+-----------+--------------------+-----------------+------------------------+--------------+-------------+---------------------------+\n",
            "only showing top 20 rows\n",
            "\n"
          ]
        }
      ]
    },
    {
      "cell_type": "code",
      "source": [
        "#Transformando string para Double\n",
        "empresas=empresas.withColumn('capital_social',empresas['capital_social'].cast(DoubleType()))"
      ],
      "metadata": {
        "id": "pFqyTVcGD08W"
      },
      "execution_count": 66,
      "outputs": []
    },
    {
      "cell_type": "code",
      "source": [],
      "metadata": {
        "id": "TVxTqdDqEPPJ"
      },
      "execution_count": null,
      "outputs": []
    },
    {
      "cell_type": "code",
      "source": [
        "empresas.printSchema()"
      ],
      "metadata": {
        "colab": {
          "base_uri": "https://localhost:8080/"
        },
        "id": "uIvBYr-BEB0C",
        "outputId": "570aa371-0535-4ba3-8d62-fe5d4fbdba60"
      },
      "execution_count": 67,
      "outputs": [
        {
          "output_type": "stream",
          "name": "stdout",
          "text": [
            "root\n",
            " |-- cnpj_basico: integer (nullable = true)\n",
            " |-- razao_social: string (nullable = true)\n",
            " |-- Natureza_juridica: integer (nullable = true)\n",
            " |-- qualificacao_responsavel: integer (nullable = true)\n",
            " |-- capital_social: double (nullable = true)\n",
            " |-- porte_empresa: integer (nullable = true)\n",
            " |-- ente_federativo_responsável: string (nullable = true)\n",
            "\n"
          ]
        }
      ]
    },
    {
      "cell_type": "code",
      "source": [
        "empresas \\\n",
        "  .select('*') \\\n",
        "  .show(5,False)"
      ],
      "metadata": {
        "colab": {
          "base_uri": "https://localhost:8080/"
        },
        "id": "kaQaWYvaIQFh",
        "outputId": "97074981-8547-4e2d-af8e-e1498671d620"
      },
      "execution_count": 79,
      "outputs": [
        {
          "output_type": "stream",
          "name": "stdout",
          "text": [
            "+-----------+--------------------------------------------------------------------------------------------+-----------------+------------------------+--------------+-------------+---------------------------+\n",
            "|cnpj_basico|razao_social                                                                                |Natureza_juridica|qualificacao_responsavel|capital_social|porte_empresa|ente_federativo_responsável|\n",
            "+-----------+--------------------------------------------------------------------------------------------+-----------------+------------------------+--------------+-------------+---------------------------+\n",
            "|306        |FRANCAMAR REFRIGERACAO TECNICA S/C LTDA                                                     |2240             |49                      |0.0           |1            |null                       |\n",
            "|1355       |BRASILEIRO & OLIVEIRA LTDA                                                                  |2062             |49                      |0.0           |5            |null                       |\n",
            "|4820       |REGISTRO DE IMOVEIS, TABELIONATO 1 DE NOTAS E TABELIONATO E REGISTRO DE CONSTRATOS MARITIMOS|3034             |32                      |0.0           |5            |null                       |\n",
            "|5347       |ROSELY APARECIDA MONTEIRO CALTABIANO FREITAS                                                |2135             |50                      |0.0           |5            |null                       |\n",
            "|6846       |BADU E FILHOS TECIDOS LTDA                                                                  |2062             |49                      |4000.0        |1            |null                       |\n",
            "+-----------+--------------------------------------------------------------------------------------------+-----------------+------------------------+--------------+-------------+---------------------------+\n",
            "only showing top 5 rows\n",
            "\n"
          ]
        }
      ]
    },
    {
      "cell_type": "code",
      "source": [
        "#usando filtro where\n",
        "\n",
        "empresas \\\n",
        "  .where('capital_social>20 and capital_social<100') \\\n",
        "  .count()"
      ],
      "metadata": {
        "colab": {
          "base_uri": "https://localhost:8080/"
        },
        "id": "uQhWC9uqFZvY",
        "outputId": "635c1f15-a00f-4505-85eb-0f715cb95a9e"
      },
      "execution_count": 81,
      "outputs": [
        {
          "output_type": "execute_result",
          "data": {
            "text/plain": [
              "8729"
            ]
          },
          "metadata": {},
          "execution_count": 81
        }
      ]
    },
    {
      "cell_type": "code",
      "source": [
        "# Usando filtro 'filter'\n",
        "empresas \\\n",
        "  .filter('capital_social>20 and capital_social<100') \\\n",
        "  .show()"
      ],
      "metadata": {
        "colab": {
          "base_uri": "https://localhost:8080/"
        },
        "id": "Whjun1F2GHI8",
        "outputId": "3a33399d-ca54-4525-8052-a157b7dd22da"
      },
      "execution_count": 75,
      "outputs": [
        {
          "output_type": "stream",
          "name": "stdout",
          "text": [
            "+-----------+--------------------+-----------------+------------------------+--------------+-------------+---------------------------+\n",
            "|cnpj_basico|        razao_social|Natureza_juridica|qualificacao_responsavel|capital_social|porte_empresa|ente_federativo_responsável|\n",
            "+-----------+--------------------+-----------------+------------------------+--------------+-------------+---------------------------+\n",
            "|   17350147|ERIK MARCELO DOS ...|             2135|                      50|          50.0|            1|                       null|\n",
            "|   17833214|ALEXANDRE MACHADO...|             2135|                      50|          50.0|            1|                       null|\n",
            "|   20860830|YASMIN MOURA DA F...|             2135|                      50|          50.0|            1|                       null|\n",
            "|   22242856|JOAO CESAR MESSIA...|             2135|                      50|          50.0|            1|                       null|\n",
            "|   22510243|DAIANE DE JESUS S...|             2135|                      50|          39.4|            1|                       null|\n",
            "|   23238540|EVERTON ROBERTO D...|             2135|                      50|          50.0|            1|                       null|\n",
            "|   23791307|RAFAEL LUIZ DA SI...|             2135|                      50|          25.0|            1|                       null|\n",
            "|   24310504|LIGIA WERNECK DAM...|             2135|                      50|          50.0|            1|                       null|\n",
            "|   26171412|CLEUZA NERES DA C...|             2135|                      50|          50.0|            1|                       null|\n",
            "|   26366885|KAROLINA DE FREIT...|             2135|                      50|          50.0|            1|                       null|\n",
            "|   26591223|ADAO ALEXANDRE DE...|             2135|                      50|          40.0|            1|                       null|\n",
            "|   27907321|ANDRE LUIS DOS SA...|             2135|                      50|          50.0|            1|                       null|\n",
            "|   28598904|ANDRE LUIS PEREIR...|             2135|                      50|          50.0|            1|                       null|\n",
            "|   28697923|EDVALDO MATEUS SA...|             2135|                      50|          50.0|            1|                       null|\n",
            "|   28755640|RUTH LIMA DE SOUZ...|             2135|                      50|          45.0|            1|                       null|\n",
            "|   29177545|IGOR ROBERTO CAND...|             2135|                      50|          50.0|            1|                       null|\n",
            "|   29535496|SAMUEL SANTOS 969...|             2135|                      50|          30.0|            1|                       null|\n",
            "|   29642398|IAN CORREA DE BAR...|             2135|                      50|          50.0|            1|                       null|\n",
            "|   30052392|JULIANA DE PAULA ...|             2135|                      50|          50.0|            1|                       null|\n",
            "|   30582991|ADRIANO JOSE RODR...|             2135|                      50|          45.0|            1|                       null|\n",
            "+-----------+--------------------+-----------------+------------------------+--------------+-------------+---------------------------+\n",
            "only showing top 20 rows\n",
            "\n"
          ]
        }
      ]
    },
    {
      "cell_type": "code",
      "source": [
        "#usando comando SQL no spark\n",
        "empresas \\\n",
        "  .select('razao_social','porte_empresa') \\\n",
        "  .where('capital_social>20 and capital_social<100') \\\n",
        "  .show(5)"
      ],
      "metadata": {
        "colab": {
          "base_uri": "https://localhost:8080/"
        },
        "id": "8kM8nvr3I_Zj",
        "outputId": "fee67800-478d-4f23-9560-c9e597f7b6cf"
      },
      "execution_count": 93,
      "outputs": [
        {
          "output_type": "stream",
          "name": "stdout",
          "text": [
            "+--------------------+-------------+\n",
            "|        razao_social|porte_empresa|\n",
            "+--------------------+-------------+\n",
            "|ERIK MARCELO DOS ...|            1|\n",
            "|ALEXANDRE MACHADO...|            1|\n",
            "|YASMIN MOURA DA F...|            1|\n",
            "|JOAO CESAR MESSIA...|            1|\n",
            "|DAIANE DE JESUS S...|            1|\n",
            "+--------------------+-------------+\n",
            "only showing top 5 rows\n",
            "\n"
          ]
        }
      ]
    },
    {
      "cell_type": "code",
      "source": [
        "#orderBy\n",
        "empresas \\\n",
        "  .select('razao_social','porte_empresa') \\\n",
        "  .where('capital_social>20 and capital_social<100') \\\n",
        "  .orderBy('razao_social',ascending =True) \\\n",
        "  .show(5,True)\n"
      ],
      "metadata": {
        "colab": {
          "base_uri": "https://localhost:8080/"
        },
        "id": "-Oucvix1K-wS",
        "outputId": "0def1f37-7aa4-43e1-ba82-f60954fa1fb9"
      },
      "execution_count": 99,
      "outputs": [
        {
          "output_type": "stream",
          "name": "stdout",
          "text": [
            "+--------------------+-------------+\n",
            "|        razao_social|porte_empresa|\n",
            "+--------------------+-------------+\n",
            "|3 MOSQUETEIROS PU...|            5|\n",
            "|A P NERES & CIA LTDA|            1|\n",
            "|A. C. PIPA ARTESA...|            1|\n",
            "|ABEL ALVES DIAS 5...|            1|\n",
            "|ABEL GONCALVES DO...|            1|\n",
            "+--------------------+-------------+\n",
            "only showing top 5 rows\n",
            "\n"
          ]
        }
      ]
    },
    {
      "cell_type": "code",
      "source": [
        "#sumarizando os dados com a função agg\n",
        "empresas \\\n",
        "    .select('*')\\\n",
        "    .groupBy('porte_empresa')\\\n",
        "    .agg(\n",
        "        f.avg('capital_social')\n",
        "    ) \\\n",
        "    .orderBy('porte_empresa', ascending=True)\\\n",
        "    .show()"
      ],
      "metadata": {
        "colab": {
          "base_uri": "https://localhost:8080/"
        },
        "id": "aQIchhkBP2sH",
        "outputId": "b1b5527a-ed72-4221-f189-3004ab1bbcef"
      },
      "execution_count": 104,
      "outputs": [
        {
          "output_type": "stream",
          "name": "stdout",
          "text": [
            "+-------------+-------------------+\n",
            "|porte_empresa|avg(capital_social)|\n",
            "+-------------+-------------------+\n",
            "|         null|   8.35421888053467|\n",
            "|            1| 339994.53313506936|\n",
            "|            3| 2601001.7677092673|\n",
            "|            5|  708660.4208249798|\n",
            "+-------------+-------------------+\n",
            "\n"
          ]
        }
      ]
    },
    {
      "cell_type": "code",
      "source": [
        "#quantas empresas não tem capital social\n",
        "empresas \\\n",
        "    .select('*')\\\n",
        "    .filter('capital_social==0') \\\n",
        "    .groupBy('porte_empresa')\\\n",
        "    .agg(\n",
        "        f.count('capital_social')\n",
        "    ) \\\n",
        "    .orderBy('porte_empresa', ascending=True)\\\n",
        "    .show()"
      ],
      "metadata": {
        "colab": {
          "base_uri": "https://localhost:8080/"
        },
        "id": "1Cs0ymb7QqLD",
        "outputId": "2be0c96c-3b85-4575-f0a1-7c21159250fe"
      },
      "execution_count": 106,
      "outputs": [
        {
          "output_type": "stream",
          "name": "stdout",
          "text": [
            "+-------------+---------------------+\n",
            "|porte_empresa|count(capital_social)|\n",
            "+-------------+---------------------+\n",
            "|         null|                 5984|\n",
            "|            1|               457984|\n",
            "|            3|                12257|\n",
            "|            5|              1214798|\n",
            "+-------------+---------------------+\n",
            "\n"
          ]
        }
      ]
    }
  ]
}