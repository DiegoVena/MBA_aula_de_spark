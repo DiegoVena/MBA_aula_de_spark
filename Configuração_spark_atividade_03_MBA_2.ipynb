{
  "cells": [
    {
      "cell_type": "markdown",
      "metadata": {
        "id": "view-in-github",
        "colab_type": "text"
      },
      "source": [
        "<a href=\"https://colab.research.google.com/github/DiegoVena/MBA_aula_de_spark/blob/main/Configura%C3%A7%C3%A3o_spark_atividade_03_MBA_2.ipynb\" target=\"_parent\"><img src=\"https://colab.research.google.com/assets/colab-badge.svg\" alt=\"Open In Colab\"/></a>"
      ]
    },
    {
      "cell_type": "code",
      "execution_count": 1,
      "metadata": {
        "id": "btrF55-DHQo5"
      },
      "outputs": [],
      "source": [
        "#configurando o ambiente \n",
        "!apt-get update -qq\n",
        "!apt-get install openjdk-8-jdk-headless -qq > /dev/null\n",
        "!wget -q https://archive.apache.org/dist/spark/spark-3.1.2/spark-3.1.2-bin-hadoop2.7.tgz\n",
        "!tar xf spark-3.1.2-bin-hadoop2.7.tgz\n",
        "!pip install -q findspark\n"
      ]
    },
    {
      "cell_type": "code",
      "execution_count": 2,
      "metadata": {
        "id": "sO7QsZZ-HxxL"
      },
      "outputs": [],
      "source": [
        "#criando as pastas do Java e Spark\n",
        "import os\n",
        "os.environ['JAVA_HOME']=\"/usr/lib/jvm/java-8-openjdk-amd64\"\n",
        "os.environ['SPARK_HOME']='/content/spark-3.1.2-bin-hadoop2.7'"
      ]
    },
    {
      "cell_type": "code",
      "execution_count": 3,
      "metadata": {
        "id": "8JPp3QaMZ08I"
      },
      "outputs": [],
      "source": [
        "!pip install -q findspark"
      ]
    },
    {
      "cell_type": "code",
      "execution_count": 4,
      "metadata": {
        "id": "GrRWFiK_Z7kF"
      },
      "outputs": [],
      "source": [
        "#Esse pacote referência o spark\n",
        "import findspark"
      ]
    },
    {
      "cell_type": "code",
      "execution_count": 5,
      "metadata": {
        "id": "vw_nMi4zZ_Sg"
      },
      "outputs": [],
      "source": [
        "findspark.init()"
      ]
    },
    {
      "cell_type": "code",
      "execution_count": 6,
      "metadata": {
        "id": "kpiLx1TfeI1D"
      },
      "outputs": [],
      "source": [
        "#importa o spark sessão\n",
        "from pyspark.sql import SparkSession"
      ]
    },
    {
      "cell_type": "code",
      "execution_count": 7,
      "metadata": {
        "id": "bYv5zXHWefYM"
      },
      "outputs": [],
      "source": [
        "#Configuração da sessão\n",
        "spark= SparkSession.builder \\\n",
        "    .master('local[*]') \\\n",
        "    .appName('Aula_spark') \\\n",
        "    .config('spark.iu.port','4050') \\\n",
        "    .getOrCreate()"
      ]
    },
    {
      "cell_type": "code",
      "source": [],
      "metadata": {
        "id": "S-oFP4mvWn68"
      },
      "execution_count": 7,
      "outputs": []
    },
    {
      "cell_type": "code",
      "execution_count": 8,
      "metadata": {
        "id": "RiIf7ILK8TZd"
      },
      "outputs": [],
      "source": [
        "#!wget -q https://bin.equinox.io/c/4VmDzA7iaHb/ngrok-stable-linux-amd64.zip\n",
        "#!unzip ngrok-stable-linux-amd64.zip"
      ]
    },
    {
      "cell_type": "code",
      "execution_count": 9,
      "metadata": {
        "id": "ndkTkZ0HieYl"
      },
      "outputs": [],
      "source": [
        "\n",
        "#get_ipython().system_raw('ngrok config add-authtoken 2PieZgGtQEXUx4JnerL86qjMTaI_23TviCWZVtdBFfJ4NGGj')\n",
        "#get_ipython().system_raw('./ngrok http 4050 &')*/"
      ]
    },
    {
      "cell_type": "code",
      "execution_count": 10,
      "metadata": {
        "id": "UdJyClWD86wG"
      },
      "outputs": [],
      "source": [
        "#!curl -s http://localhost:4050/api/tunnels"
      ]
    },
    {
      "cell_type": "code",
      "execution_count": 11,
      "metadata": {
        "id": "MIeL9qn8ApvG"
      },
      "outputs": [],
      "source": [
        "#criando uma lista de tupla\n",
        "data=[('Diego',26),('Josi',23)]"
      ]
    },
    {
      "cell_type": "code",
      "execution_count": 12,
      "metadata": {
        "id": "72cID451A3DX"
      },
      "outputs": [],
      "source": [
        "#criando uma lista de colunas\n",
        "Col=['Nome','Idade']"
      ]
    },
    {
      "cell_type": "code",
      "execution_count": 13,
      "metadata": {
        "id": "4MqFQuBkA8NE"
      },
      "outputs": [],
      "source": [
        "#Criando um data frame no spark\n",
        "df=spark.createDataFrame(data,Col)"
      ]
    },
    {
      "cell_type": "code",
      "execution_count": 14,
      "metadata": {
        "colab": {
          "base_uri": "https://localhost:8080/"
        },
        "id": "IVQfV02OEHDt",
        "outputId": "1ac97728-3903-45f6-cfdc-9afa969394d2"
      },
      "outputs": [
        {
          "output_type": "stream",
          "name": "stdout",
          "text": [
            "+-----+-----+\n",
            "| Nome|Idade|\n",
            "+-----+-----+\n",
            "|Diego|   26|\n",
            "| Josi|   23|\n",
            "+-----+-----+\n",
            "\n"
          ]
        }
      ],
      "source": [
        "#Mostrando o data frame \n",
        "df.show()"
      ]
    },
    {
      "cell_type": "code",
      "execution_count": 15,
      "metadata": {
        "colab": {
          "base_uri": "https://localhost:8080/",
          "height": 112
        },
        "id": "N2gyVqPOEsWl",
        "outputId": "27cbf231-b33d-4ac0-ad9f-a20d1f9e4d7a"
      },
      "outputs": [
        {
          "output_type": "execute_result",
          "data": {
            "text/plain": [
              "    Nome  Idade\n",
              "0  Diego     26\n",
              "1   Josi     23"
            ],
            "text/html": [
              "\n",
              "  <div id=\"df-fa8d64ce-cc61-442a-bb68-a3a5fb8d5f03\">\n",
              "    <div class=\"colab-df-container\">\n",
              "      <div>\n",
              "<style scoped>\n",
              "    .dataframe tbody tr th:only-of-type {\n",
              "        vertical-align: middle;\n",
              "    }\n",
              "\n",
              "    .dataframe tbody tr th {\n",
              "        vertical-align: top;\n",
              "    }\n",
              "\n",
              "    .dataframe thead th {\n",
              "        text-align: right;\n",
              "    }\n",
              "</style>\n",
              "<table border=\"1\" class=\"dataframe\">\n",
              "  <thead>\n",
              "    <tr style=\"text-align: right;\">\n",
              "      <th></th>\n",
              "      <th>Nome</th>\n",
              "      <th>Idade</th>\n",
              "    </tr>\n",
              "  </thead>\n",
              "  <tbody>\n",
              "    <tr>\n",
              "      <th>0</th>\n",
              "      <td>Diego</td>\n",
              "      <td>26</td>\n",
              "    </tr>\n",
              "    <tr>\n",
              "      <th>1</th>\n",
              "      <td>Josi</td>\n",
              "      <td>23</td>\n",
              "    </tr>\n",
              "  </tbody>\n",
              "</table>\n",
              "</div>\n",
              "      <button class=\"colab-df-convert\" onclick=\"convertToInteractive('df-fa8d64ce-cc61-442a-bb68-a3a5fb8d5f03')\"\n",
              "              title=\"Convert this dataframe to an interactive table.\"\n",
              "              style=\"display:none;\">\n",
              "        \n",
              "  <svg xmlns=\"http://www.w3.org/2000/svg\" height=\"24px\"viewBox=\"0 0 24 24\"\n",
              "       width=\"24px\">\n",
              "    <path d=\"M0 0h24v24H0V0z\" fill=\"none\"/>\n",
              "    <path d=\"M18.56 5.44l.94 2.06.94-2.06 2.06-.94-2.06-.94-.94-2.06-.94 2.06-2.06.94zm-11 1L8.5 8.5l.94-2.06 2.06-.94-2.06-.94L8.5 2.5l-.94 2.06-2.06.94zm10 10l.94 2.06.94-2.06 2.06-.94-2.06-.94-.94-2.06-.94 2.06-2.06.94z\"/><path d=\"M17.41 7.96l-1.37-1.37c-.4-.4-.92-.59-1.43-.59-.52 0-1.04.2-1.43.59L10.3 9.45l-7.72 7.72c-.78.78-.78 2.05 0 2.83L4 21.41c.39.39.9.59 1.41.59.51 0 1.02-.2 1.41-.59l7.78-7.78 2.81-2.81c.8-.78.8-2.07 0-2.86zM5.41 20L4 18.59l7.72-7.72 1.47 1.35L5.41 20z\"/>\n",
              "  </svg>\n",
              "      </button>\n",
              "      \n",
              "  <style>\n",
              "    .colab-df-container {\n",
              "      display:flex;\n",
              "      flex-wrap:wrap;\n",
              "      gap: 12px;\n",
              "    }\n",
              "\n",
              "    .colab-df-convert {\n",
              "      background-color: #E8F0FE;\n",
              "      border: none;\n",
              "      border-radius: 50%;\n",
              "      cursor: pointer;\n",
              "      display: none;\n",
              "      fill: #1967D2;\n",
              "      height: 32px;\n",
              "      padding: 0 0 0 0;\n",
              "      width: 32px;\n",
              "    }\n",
              "\n",
              "    .colab-df-convert:hover {\n",
              "      background-color: #E2EBFA;\n",
              "      box-shadow: 0px 1px 2px rgba(60, 64, 67, 0.3), 0px 1px 3px 1px rgba(60, 64, 67, 0.15);\n",
              "      fill: #174EA6;\n",
              "    }\n",
              "\n",
              "    [theme=dark] .colab-df-convert {\n",
              "      background-color: #3B4455;\n",
              "      fill: #D2E3FC;\n",
              "    }\n",
              "\n",
              "    [theme=dark] .colab-df-convert:hover {\n",
              "      background-color: #434B5C;\n",
              "      box-shadow: 0px 1px 3px 1px rgba(0, 0, 0, 0.15);\n",
              "      filter: drop-shadow(0px 1px 2px rgba(0, 0, 0, 0.3));\n",
              "      fill: #FFFFFF;\n",
              "    }\n",
              "  </style>\n",
              "\n",
              "      <script>\n",
              "        const buttonEl =\n",
              "          document.querySelector('#df-fa8d64ce-cc61-442a-bb68-a3a5fb8d5f03 button.colab-df-convert');\n",
              "        buttonEl.style.display =\n",
              "          google.colab.kernel.accessAllowed ? 'block' : 'none';\n",
              "\n",
              "        async function convertToInteractive(key) {\n",
              "          const element = document.querySelector('#df-fa8d64ce-cc61-442a-bb68-a3a5fb8d5f03');\n",
              "          const dataTable =\n",
              "            await google.colab.kernel.invokeFunction('convertToInteractive',\n",
              "                                                     [key], {});\n",
              "          if (!dataTable) return;\n",
              "\n",
              "          const docLinkHtml = 'Like what you see? Visit the ' +\n",
              "            '<a target=\"_blank\" href=https://colab.research.google.com/notebooks/data_table.ipynb>data table notebook</a>'\n",
              "            + ' to learn more about interactive tables.';\n",
              "          element.innerHTML = '';\n",
              "          dataTable['output_type'] = 'display_data';\n",
              "          await google.colab.output.renderOutput(dataTable, element);\n",
              "          const docLink = document.createElement('div');\n",
              "          docLink.innerHTML = docLinkHtml;\n",
              "          element.appendChild(docLink);\n",
              "        }\n",
              "      </script>\n",
              "    </div>\n",
              "  </div>\n",
              "  "
            ]
          },
          "metadata": {},
          "execution_count": 15
        }
      ],
      "source": [
        "#Monstrando o data frame e modelo de Data frame pandas(py)\n",
        "df.toPandas()"
      ]
    },
    {
      "cell_type": "code",
      "execution_count": 16,
      "metadata": {
        "id": "TLeuLywbG6Wv",
        "colab": {
          "base_uri": "https://localhost:8080/"
        },
        "outputId": "d7964894-a77c-42ea-8bd5-94c10be5ba1d"
      },
      "outputs": [
        {
          "output_type": "stream",
          "name": "stdout",
          "text": [
            "Mounted at /content/drive\n"
          ]
        }
      ],
      "source": [
        "#criando uma conexão com o Drive caso queira se não desconsidere esse passo \n",
        "from google.colab import drive\n",
        "drive.mount('/content/drive')"
      ]
    },
    {
      "cell_type": "code",
      "execution_count": 17,
      "metadata": {
        "id": "887C3sLazGRl"
      },
      "outputs": [],
      "source": [
        "#biblioteca de descompactação\n",
        "import zipfile"
      ]
    },
    {
      "cell_type": "code",
      "execution_count": 18,
      "metadata": {
        "id": "d_iaTi9O2Sxf"
      },
      "outputs": [],
      "source": [
        "#extraindo o arquivo do zip para a mesma pasta \n",
        "zipfile.ZipFile('/content/drive/MyDrive/MBA_03/empresas.zip','r').extractall('/content/drive/MyDrive/MBA_03')"
      ]
    },
    {
      "cell_type": "code",
      "execution_count": 19,
      "metadata": {
        "id": "bymFJSo84SQb"
      },
      "outputs": [],
      "source": [
        "#criando um caminho\n",
        "path='/content/drive/MyDrive/MBA_03/empresas'"
      ]
    },
    {
      "cell_type": "code",
      "execution_count": 20,
      "metadata": {
        "id": "vAQbXg_D4b6S"
      },
      "outputs": [],
      "source": [
        "#lendo csv \n",
        "empresas=spark.read.csv('/content/drive/MyDrive/MBA_03/empresas/part-00000-58983ad4-8444-4405-aec6-9cd3e5413d1b-c000.csv',sep=';',inferSchema=True)"
      ]
    },
    {
      "cell_type": "code",
      "execution_count": 21,
      "metadata": {
        "colab": {
          "base_uri": "https://localhost:8080/"
        },
        "id": "XChxYDwd5PnH",
        "outputId": "c109f3f2-24b9-40a0-a510-b6b650e3c789"
      },
      "outputs": [
        {
          "output_type": "stream",
          "name": "stdout",
          "text": [
            "+-----+--------------------+----+---+---------+---+----+\n",
            "|  _c0|                 _c1| _c2|_c3|      _c4|_c5| _c6|\n",
            "+-----+--------------------+----+---+---------+---+----+\n",
            "| 4519|DANIELA DA SILVA ...|2135| 50|     0,00|  5|null|\n",
            "| 8638|JOAO DOS SANTOS F...|2135| 50|     0,00|  5|null|\n",
            "|11748|PANIFICADORA E CO...|2062| 49|     0,00|  1|null|\n",
            "|12027| L G SORVETERIA LTDA|2062| 49|     0,00|  5|null|\n",
            "|13289|ANDREIA CRISTINA ...|2305| 65|100000,00|  1|null|\n",
            "|13623|MARISTELA INDUSTR...|2062| 49|     0,00|  5|null|\n",
            "|17389|DAICICOM MARKETIN...|2240| 49|     0,00|  1|null|\n",
            "|18944|SAO GOTARDO-DISTR...|2062| 49|     0,00|  5|null|\n",
            "|19204|TORTARIA CAMPINAS...|2062| 49|     0,00|  1|null|\n",
            "|22223|S R FARIAS DA SIL...|2062| 49|     0,00|  5|null|\n",
            "|23015|EVANGELINA P DE J...|2135| 50|     0,00|  1|null|\n",
            "|24354|JUCELIA PEREIRA D...|2135| 50|     0,00|  1|null|\n",
            "|26708|DONEIR RODRIGUES ...|2135| 50|     0,00|  1|null|\n",
            "|28664|M ROCHA COML IMPO...|2062| 49|100000,00|  5|null|\n",
            "|28759|LULETEF CONFECCAO...|2062| 49|     0,00|  5|null|\n",
            "|29194|MARIA DA SILVA FE...|2135| 50|     0,00|  1|null|\n",
            "|33717|SOCIEDADE AMIGOS ...|3999| 16|     0,00|  5|null|\n",
            "|38422|SEBASTIAO ALVES D...|4014| 34|     0,00|  5|null|\n",
            "|47217|ITAPOA IMOBILIARI...|2062| 49|     0,00|  1|null|\n",
            "|56054|MARTA XAVIER DA S...|2135| 50|     0,00|  1|null|\n",
            "+-----+--------------------+----+---+---------+---+----+\n",
            "only showing top 20 rows\n",
            "\n"
          ]
        }
      ],
      "source": [
        "#mostrar as 20 primeiras linhas, dentro do parentes de show podemos escolher quantas linhas vamos\n",
        "#mostrar igual a função head do python\n",
        "empresas.show()"
      ]
    },
    {
      "cell_type": "code",
      "execution_count": 22,
      "metadata": {
        "colab": {
          "base_uri": "https://localhost:8080/"
        },
        "id": "3xGIh6kv5bwu",
        "outputId": "7fcb8720-6bbc-48f6-e196-686d3e438bcd"
      },
      "outputs": [
        {
          "output_type": "execute_result",
          "data": {
            "text/plain": [
              "458549"
            ]
          },
          "metadata": {},
          "execution_count": 22
        }
      ],
      "source": [
        "#mostrando a quantidade de linhas no Data frame\n",
        "empresas.count()"
      ]
    },
    {
      "cell_type": "code",
      "execution_count": 23,
      "metadata": {
        "id": "FOMc0UEa6kON"
      },
      "outputs": [],
      "source": [
        "#criando uma lista com nome da colunas\n",
        "Names=['cnpj_basico','razao_social','Natureza_juridica','qualificacao_responsavel','capital_social','porte_empresa','ente_federativo_responsável']"
      ]
    },
    {
      "cell_type": "code",
      "execution_count": 24,
      "metadata": {
        "id": "nfbCYvBd75Ba"
      },
      "outputs": [],
      "source": [
        "#renomeando as colunas\n",
        "for index, ColNames in enumerate(Names):\n",
        "  empresas=empresas.withColumnRenamed(f\"_c{index}\",ColNames)\n"
      ]
    },
    {
      "cell_type": "code",
      "execution_count": 25,
      "metadata": {
        "colab": {
          "base_uri": "https://localhost:8080/"
        },
        "id": "fpDLgw0K9gtP",
        "outputId": "dfbf57fd-c142-4fd9-da08-07a66c6dfd18"
      },
      "outputs": [
        {
          "output_type": "execute_result",
          "data": {
            "text/plain": [
              "['cnpj_basico',\n",
              " 'razao_social',\n",
              " 'Natureza_juridica',\n",
              " 'qualificacao_responsavel',\n",
              " 'capital_social',\n",
              " 'porte_empresa',\n",
              " 'ente_federativo_responsável']"
            ]
          },
          "metadata": {},
          "execution_count": 25
        }
      ],
      "source": [
        "#Colunas após a transformação\n",
        "empresas.columns"
      ]
    },
    {
      "cell_type": "code",
      "execution_count": 26,
      "metadata": {
        "colab": {
          "base_uri": "https://localhost:8080/"
        },
        "id": "7G_dOwRL_3s-",
        "outputId": "770504cc-c60a-4c3f-a0ee-bfe1867bad8a"
      },
      "outputs": [
        {
          "output_type": "stream",
          "name": "stdout",
          "text": [
            "root\n",
            " |-- cnpj_basico: integer (nullable = true)\n",
            " |-- razao_social: string (nullable = true)\n",
            " |-- Natureza_juridica: integer (nullable = true)\n",
            " |-- qualificacao_responsavel: integer (nullable = true)\n",
            " |-- capital_social: string (nullable = true)\n",
            " |-- porte_empresa: integer (nullable = true)\n",
            " |-- ente_federativo_responsável: string (nullable = true)\n",
            "\n"
          ]
        }
      ],
      "source": [
        "#Vendo o tipo de dados dentro do data frame\n",
        "empresas.printSchema()"
      ]
    },
    {
      "cell_type": "code",
      "execution_count": 27,
      "metadata": {
        "id": "-UxKPn_cAeL6"
      },
      "outputs": [],
      "source": [
        "#importando double,string e Datatype\n",
        "from pyspark.sql.types import DoubleType, StringType,DateType"
      ]
    },
    {
      "cell_type": "code",
      "execution_count": 28,
      "metadata": {
        "id": "PoURUxPOAt8J"
      },
      "outputs": [],
      "source": [
        "# importando funções matemáticas\n",
        "from pyspark.sql import functions as f"
      ]
    },
    {
      "cell_type": "code",
      "execution_count": 29,
      "metadata": {
        "id": "YRuqNfBeBQNh"
      },
      "outputs": [],
      "source": [
        "#Mudando ',' para '.'\n",
        "empresas=empresas.withColumn('capital_social',f.regexp_replace('capital_social',',','.'))"
      ]
    },
    {
      "cell_type": "code",
      "execution_count": 29,
      "metadata": {
        "id": "iAdgdTn7DPbx"
      },
      "outputs": [],
      "source": []
    },
    {
      "cell_type": "code",
      "execution_count": 30,
      "metadata": {
        "colab": {
          "base_uri": "https://localhost:8080/"
        },
        "id": "zxq_xyYrClso",
        "outputId": "e3580d41-f937-4786-92a5-523b695b1dd2"
      },
      "outputs": [
        {
          "output_type": "stream",
          "name": "stdout",
          "text": [
            "+-----------+--------------------+-----------------+------------------------+--------------+-------------+---------------------------+\n",
            "|cnpj_basico|        razao_social|Natureza_juridica|qualificacao_responsavel|capital_social|porte_empresa|ente_federativo_responsável|\n",
            "+-----------+--------------------+-----------------+------------------------+--------------+-------------+---------------------------+\n",
            "|       4519|DANIELA DA SILVA ...|             2135|                      50|          0.00|            5|                       null|\n",
            "|       8638|JOAO DOS SANTOS F...|             2135|                      50|          0.00|            5|                       null|\n",
            "|      11748|PANIFICADORA E CO...|             2062|                      49|          0.00|            1|                       null|\n",
            "|      12027| L G SORVETERIA LTDA|             2062|                      49|          0.00|            5|                       null|\n",
            "|      13289|ANDREIA CRISTINA ...|             2305|                      65|     100000.00|            1|                       null|\n",
            "|      13623|MARISTELA INDUSTR...|             2062|                      49|          0.00|            5|                       null|\n",
            "|      17389|DAICICOM MARKETIN...|             2240|                      49|          0.00|            1|                       null|\n",
            "|      18944|SAO GOTARDO-DISTR...|             2062|                      49|          0.00|            5|                       null|\n",
            "|      19204|TORTARIA CAMPINAS...|             2062|                      49|          0.00|            1|                       null|\n",
            "|      22223|S R FARIAS DA SIL...|             2062|                      49|          0.00|            5|                       null|\n",
            "|      23015|EVANGELINA P DE J...|             2135|                      50|          0.00|            1|                       null|\n",
            "|      24354|JUCELIA PEREIRA D...|             2135|                      50|          0.00|            1|                       null|\n",
            "|      26708|DONEIR RODRIGUES ...|             2135|                      50|          0.00|            1|                       null|\n",
            "|      28664|M ROCHA COML IMPO...|             2062|                      49|     100000.00|            5|                       null|\n",
            "|      28759|LULETEF CONFECCAO...|             2062|                      49|          0.00|            5|                       null|\n",
            "|      29194|MARIA DA SILVA FE...|             2135|                      50|          0.00|            1|                       null|\n",
            "|      33717|SOCIEDADE AMIGOS ...|             3999|                      16|          0.00|            5|                       null|\n",
            "|      38422|SEBASTIAO ALVES D...|             4014|                      34|          0.00|            5|                       null|\n",
            "|      47217|ITAPOA IMOBILIARI...|             2062|                      49|          0.00|            1|                       null|\n",
            "|      56054|MARTA XAVIER DA S...|             2135|                      50|          0.00|            1|                       null|\n",
            "+-----------+--------------------+-----------------+------------------------+--------------+-------------+---------------------------+\n",
            "only showing top 20 rows\n",
            "\n"
          ]
        }
      ],
      "source": [
        "empresas.show( )\n",
        "\n"
      ]
    },
    {
      "cell_type": "code",
      "execution_count": 31,
      "metadata": {
        "id": "pFqyTVcGD08W"
      },
      "outputs": [],
      "source": [
        "#Transformando string para Double\n",
        "empresas=empresas.withColumn('capital_social',empresas['capital_social'].cast(DoubleType()))"
      ]
    },
    {
      "cell_type": "code",
      "execution_count": 31,
      "metadata": {
        "id": "TVxTqdDqEPPJ"
      },
      "outputs": [],
      "source": []
    },
    {
      "cell_type": "code",
      "execution_count": 32,
      "metadata": {
        "colab": {
          "base_uri": "https://localhost:8080/"
        },
        "id": "uIvBYr-BEB0C",
        "outputId": "eeeca428-0e2c-44f9-f970-249455887c04"
      },
      "outputs": [
        {
          "output_type": "stream",
          "name": "stdout",
          "text": [
            "root\n",
            " |-- cnpj_basico: integer (nullable = true)\n",
            " |-- razao_social: string (nullable = true)\n",
            " |-- Natureza_juridica: integer (nullable = true)\n",
            " |-- qualificacao_responsavel: integer (nullable = true)\n",
            " |-- capital_social: double (nullable = true)\n",
            " |-- porte_empresa: integer (nullable = true)\n",
            " |-- ente_federativo_responsável: string (nullable = true)\n",
            "\n"
          ]
        }
      ],
      "source": [
        "empresas.printSchema()"
      ]
    },
    {
      "cell_type": "code",
      "execution_count": 33,
      "metadata": {
        "colab": {
          "base_uri": "https://localhost:8080/"
        },
        "id": "kaQaWYvaIQFh",
        "outputId": "6935a7c5-906c-4713-ea2c-9aef721ddef1"
      },
      "outputs": [
        {
          "output_type": "stream",
          "name": "stdout",
          "text": [
            "+-----------+---------------------------------------------------+-----------------+------------------------+--------------+-------------+---------------------------+\n",
            "|cnpj_basico|razao_social                                       |Natureza_juridica|qualificacao_responsavel|capital_social|porte_empresa|ente_federativo_responsável|\n",
            "+-----------+---------------------------------------------------+-----------------+------------------------+--------------+-------------+---------------------------+\n",
            "|4519       |DANIELA DA SILVA CRUZ                              |2135             |50                      |0.0           |5            |null                       |\n",
            "|8638       |JOAO DOS SANTOS FAGUNDES                           |2135             |50                      |0.0           |5            |null                       |\n",
            "|11748      |PANIFICADORA E CONFEITARIA CONFIANCA RIO PRETO LTDA|2062             |49                      |0.0           |1            |null                       |\n",
            "|12027      |L G SORVETERIA LTDA                                |2062             |49                      |0.0           |5            |null                       |\n",
            "|13289      |ANDREIA CRISTINA DELSIN EIRELI                     |2305             |65                      |100000.0      |1            |null                       |\n",
            "+-----------+---------------------------------------------------+-----------------+------------------------+--------------+-------------+---------------------------+\n",
            "only showing top 5 rows\n",
            "\n"
          ]
        }
      ],
      "source": [
        "empresas \\\n",
        "  .select('*') \\\n",
        "  .show(5,False)"
      ]
    },
    {
      "cell_type": "code",
      "execution_count": 34,
      "metadata": {
        "colab": {
          "base_uri": "https://localhost:8080/"
        },
        "id": "uQhWC9uqFZvY",
        "outputId": "9a5def40-983d-4fb9-b402-dafb52ebab7a"
      },
      "outputs": [
        {
          "output_type": "execute_result",
          "data": {
            "text/plain": [
              "839"
            ]
          },
          "metadata": {},
          "execution_count": 34
        }
      ],
      "source": [
        "#usando filtro where\n",
        "\n",
        "empresas \\\n",
        "  .where('capital_social>20 and capital_social<100') \\\n",
        "  .count()"
      ]
    },
    {
      "cell_type": "code",
      "execution_count": 35,
      "metadata": {
        "colab": {
          "base_uri": "https://localhost:8080/"
        },
        "id": "Whjun1F2GHI8",
        "outputId": "e835c078-416c-4e83-8eff-d160b04e15ed"
      },
      "outputs": [
        {
          "output_type": "stream",
          "name": "stdout",
          "text": [
            "+-----------+--------------------+-----------------+------------------------+--------------+-------------+---------------------------+\n",
            "|cnpj_basico|        razao_social|Natureza_juridica|qualificacao_responsavel|capital_social|porte_empresa|ente_federativo_responsável|\n",
            "+-----------+--------------------+-----------------+------------------------+--------------+-------------+---------------------------+\n",
            "|   14715041|LIDIANE MARIA DO ...|             2135|                      50|          50.0|            1|                       null|\n",
            "|   17839609|RENATO PEREIRA DA...|             2135|                      50|          32.0|            1|                       null|\n",
            "|   18953382|ANA BEATRIZ MACHA...|             2135|                      50|          40.0|            1|                       null|\n",
            "|   20601885|CRISTIANO AKIHITO...|             2135|                      50|          50.0|            1|                       null|\n",
            "|   23023326|DIEGO DA SILVA SE...|             2135|                      50|          30.0|            1|                       null|\n",
            "|   23405510|HERLON PEREIRA DE...|             2135|                      50|          80.0|            1|                       null|\n",
            "|   23661983|VITOR ALOISIO DO ...|             2135|                      50|          50.0|            1|                       null|\n",
            "|   23714726|JOSELINA PANSINI ...|             2135|                      50|          50.0|            1|                       null|\n",
            "|   26022246|SUZANE SILVA DE O...|             2135|                      50|          50.0|            1|                       null|\n",
            "|   26300336|JONATAS RENATO LO...|             2135|                      50|          50.0|            1|                       null|\n",
            "|   26357337|DANIELLE THIESEN ...|             2135|                      50|          50.0|            1|                       null|\n",
            "|   27247035|JUSSARA VOIGT 968...|             2135|                      50|          50.0|            1|                       null|\n",
            "|   27360706|MARIA PERPETUA SA...|             2135|                      50|          40.0|            1|                       null|\n",
            "|   27577768|NELSON DE SOUZA C...|             2135|                      50|          50.0|            1|                       null|\n",
            "|   28107055|MARCELO FERNANDO ...|             2135|                      50|          50.0|            1|                       null|\n",
            "|   28211576|FERNANDA REUS GOM...|             2135|                      50|          50.0|            1|                       null|\n",
            "|   28611510|MARIA JOSE MADURE...|             2135|                      50|          60.0|            1|                       null|\n",
            "|   29500678|ROBERTO RONZELLA ...|             2135|                      50|          50.0|            1|                       null|\n",
            "|   30035696|ROBERTO RODRIGUES...|             2135|                      50|          50.0|            1|                       null|\n",
            "|   30354322|RICARDO AUGUSTO D...|             2135|                      50|          50.0|            1|                       null|\n",
            "+-----------+--------------------+-----------------+------------------------+--------------+-------------+---------------------------+\n",
            "only showing top 20 rows\n",
            "\n"
          ]
        }
      ],
      "source": [
        "# Usando filtro 'filter'\n",
        "empresas \\\n",
        "  .filter('capital_social>20 and capital_social<100') \\\n",
        "  .show()"
      ]
    },
    {
      "cell_type": "code",
      "execution_count": 36,
      "metadata": {
        "colab": {
          "base_uri": "https://localhost:8080/"
        },
        "id": "8kM8nvr3I_Zj",
        "outputId": "2faf8546-ed08-4b69-969b-0a0a33ad241e"
      },
      "outputs": [
        {
          "output_type": "stream",
          "name": "stdout",
          "text": [
            "+--------------------+-------------+\n",
            "|        razao_social|porte_empresa|\n",
            "+--------------------+-------------+\n",
            "|LIDIANE MARIA DO ...|            1|\n",
            "|RENATO PEREIRA DA...|            1|\n",
            "|ANA BEATRIZ MACHA...|            1|\n",
            "|CRISTIANO AKIHITO...|            1|\n",
            "|DIEGO DA SILVA SE...|            1|\n",
            "+--------------------+-------------+\n",
            "only showing top 5 rows\n",
            "\n"
          ]
        }
      ],
      "source": [
        "#usando comando SQL no spark\n",
        "empresas \\\n",
        "  .select('razao_social','porte_empresa') \\\n",
        "  .where('capital_social>20 and capital_social<100') \\\n",
        "  .show(5)"
      ]
    },
    {
      "cell_type": "code",
      "execution_count": 37,
      "metadata": {
        "colab": {
          "base_uri": "https://localhost:8080/"
        },
        "id": "-Oucvix1K-wS",
        "outputId": "e4ebbc59-34e3-44b7-abd0-18b4339b5bb3"
      },
      "outputs": [
        {
          "output_type": "stream",
          "name": "stdout",
          "text": [
            "+--------------------+-------------+\n",
            "|        razao_social|porte_empresa|\n",
            "+--------------------+-------------+\n",
            "|ADAO MARTINS VIEI...|            1|\n",
            "|ADEMAR ALVES VIEI...|            1|\n",
            "|ADEMIR AGUIAR PER...|            1|\n",
            "|ADEMISIA BRITO MA...|            1|\n",
            "|ADENILCE RIBEIRO ...|            1|\n",
            "+--------------------+-------------+\n",
            "only showing top 5 rows\n",
            "\n"
          ]
        }
      ],
      "source": [
        "#orderBy\n",
        "empresas \\\n",
        "  .select('razao_social','porte_empresa') \\\n",
        "  .where('capital_social>20 and capital_social<100') \\\n",
        "  .orderBy('razao_social',ascending =True) \\\n",
        "  .show(5,True)\n"
      ]
    },
    {
      "cell_type": "code",
      "execution_count": 38,
      "metadata": {
        "colab": {
          "base_uri": "https://localhost:8080/"
        },
        "id": "aQIchhkBP2sH",
        "outputId": "6b8dfd17-1a07-4583-ac2e-10e7658a28ee"
      },
      "outputs": [
        {
          "output_type": "stream",
          "name": "stdout",
          "text": [
            "+-------------+-------------------+\n",
            "|porte_empresa|avg(capital_social)|\n",
            "+-------------+-------------------+\n",
            "|         null|                0.0|\n",
            "|            1| 207941.52301797093|\n",
            "|            3|  154639.3795564377|\n",
            "|            5|  606829.3027531682|\n",
            "+-------------+-------------------+\n",
            "\n"
          ]
        }
      ],
      "source": [
        "#sumarizando os dados com a função agg\n",
        "# Qual a média de capital social//porte? \n",
        "empresas \\\n",
        "    .select('*')\\\n",
        "    .groupBy('porte_empresa')\\\n",
        "    .agg(\n",
        "        f.avg('capital_social')\n",
        "    ) \\\n",
        "    .orderBy('porte_empresa', ascending=True)\\\n",
        "    .show()"
      ]
    },
    {
      "cell_type": "code",
      "execution_count": 39,
      "metadata": {
        "colab": {
          "base_uri": "https://localhost:8080/"
        },
        "id": "1Cs0ymb7QqLD",
        "outputId": "3ec4e161-b220-4c13-bef1-f0f8577ff7bb"
      },
      "outputs": [
        {
          "output_type": "stream",
          "name": "stdout",
          "text": [
            "+-------------+---------------------+\n",
            "|porte_empresa|count(capital_social)|\n",
            "+-------------+---------------------+\n",
            "|         null|                  576|\n",
            "|            1|                45696|\n",
            "|            3|                 1166|\n",
            "|            5|               121688|\n",
            "+-------------+---------------------+\n",
            "\n"
          ]
        }
      ],
      "source": [
        "#quantas empresas não tem capital social//porte?\n",
        "empresas \\\n",
        "    .select('*')\\\n",
        "    .filter('capital_social==0') \\\n",
        "    .groupBy('porte_empresa')\\\n",
        "    .agg(\n",
        "        f.count('capital_social')\n",
        "    ) \\\n",
        "    .orderBy('porte_empresa', ascending=True)\\\n",
        "    .show()"
      ]
    },
    {
      "cell_type": "code",
      "source": [
        "# quantidade de natureza juridica distinta??\n",
        "empresas \\\n",
        "   .select('Natureza_juridica') \\\n",
        "   .agg(\n",
        "      f.countDistinct('Natureza_juridica') \n",
        "   ) \\\n",
        "   .show()"
      ],
      "metadata": {
        "colab": {
          "base_uri": "https://localhost:8080/"
        },
        "id": "XbV2UZR153EH",
        "outputId": "8dc19d15-aad5-4519-ba5b-e2f8054517dc"
      },
      "execution_count": 50,
      "outputs": [
        {
          "output_type": "stream",
          "name": "stdout",
          "text": [
            "+------------------------+\n",
            "|count(Natureza_juridica)|\n",
            "+------------------------+\n",
            "|                      65|\n",
            "+------------------------+\n",
            "\n"
          ]
        }
      ]
    },
    {
      "cell_type": "code",
      "execution_count": 40,
      "metadata": {
        "id": "8uY_AmEfASud"
      },
      "outputs": [],
      "source": [
        "#salvando em formato Parquet \n",
        "empresas.write.parquet(\n",
        "    path='/content/drive/MyDrive/curso-spark/empresas/parquet',\n",
        "    mode='overwrite'\n",
        ")"
      ]
    },
    {
      "cell_type": "code",
      "source": [
        "#testando e subindo o arquivo parquet\n",
        "\n",
        "empresas_2=spark.read.parquet('/content/drive/MyDrive/MBA_03/empresas/parquet/part-00000-d75cf41c-ca89-4849-946a-bcf8eee2a77b-c000.snappy.parquet')"
      ],
      "metadata": {
        "id": "zmSUDac2UkV5"
      },
      "execution_count": 41,
      "outputs": []
    }
  ],
  "metadata": {
    "colab": {
      "provenance": [],
      "authorship_tag": "ABX9TyNDAN2zaw8rPzRYkpGs0Xy0",
      "include_colab_link": true
    },
    "kernelspec": {
      "display_name": "Python 3",
      "name": "python3"
    },
    "language_info": {
      "name": "python"
    }
  },
  "nbformat": 4,
  "nbformat_minor": 0
}